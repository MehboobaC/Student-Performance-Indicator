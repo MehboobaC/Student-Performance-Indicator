{
 "cells": [
  {
   "cell_type": "markdown",
   "id": "6234f3a7",
   "metadata": {},
   "source": [
    "# Model Training"
   ]
  },
  {
   "cell_type": "code",
   "execution_count": 2,
   "id": "99b20a33",
   "metadata": {},
   "outputs": [
    {
     "name": "stderr",
     "output_type": "stream",
     "text": [
      "C:\\Users\\cmehb\\anaconda3\\lib\\site-packages\\scipy\\__init__.py:146: UserWarning: A NumPy version >=1.16.5 and <1.23.0 is required for this version of SciPy (detected version 1.24.3\n",
      "  warnings.warn(f\"A NumPy version >={np_minversion} and <{np_maxversion}\"\n"
     ]
    }
   ],
   "source": [
    "import numpy as np\n",
    "import pandas as pd\n",
    "import seaborn as sns\n",
    "import matplotlib.pyplot as plt\n",
    "\n",
    "import warnings\n",
    "warnings.filterwarnings(\"ignore\")"
   ]
  },
  {
   "cell_type": "code",
   "execution_count": 3,
   "id": "0bc5e992",
   "metadata": {},
   "outputs": [
    {
     "data": {
      "text/html": [
       "<div>\n",
       "<style scoped>\n",
       "    .dataframe tbody tr th:only-of-type {\n",
       "        vertical-align: middle;\n",
       "    }\n",
       "\n",
       "    .dataframe tbody tr th {\n",
       "        vertical-align: top;\n",
       "    }\n",
       "\n",
       "    .dataframe thead th {\n",
       "        text-align: right;\n",
       "    }\n",
       "</style>\n",
       "<table border=\"1\" class=\"dataframe\">\n",
       "  <thead>\n",
       "    <tr style=\"text-align: right;\">\n",
       "      <th></th>\n",
       "      <th>gender</th>\n",
       "      <th>race_ethnicity</th>\n",
       "      <th>parental_level_of_education</th>\n",
       "      <th>lunch</th>\n",
       "      <th>test_preparation_course</th>\n",
       "      <th>math_score</th>\n",
       "      <th>reading_score</th>\n",
       "      <th>writing_score</th>\n",
       "    </tr>\n",
       "  </thead>\n",
       "  <tbody>\n",
       "    <tr>\n",
       "      <th>0</th>\n",
       "      <td>female</td>\n",
       "      <td>group B</td>\n",
       "      <td>bachelor's degree</td>\n",
       "      <td>standard</td>\n",
       "      <td>none</td>\n",
       "      <td>72</td>\n",
       "      <td>72</td>\n",
       "      <td>74</td>\n",
       "    </tr>\n",
       "    <tr>\n",
       "      <th>1</th>\n",
       "      <td>female</td>\n",
       "      <td>group C</td>\n",
       "      <td>some college</td>\n",
       "      <td>standard</td>\n",
       "      <td>completed</td>\n",
       "      <td>69</td>\n",
       "      <td>90</td>\n",
       "      <td>88</td>\n",
       "    </tr>\n",
       "    <tr>\n",
       "      <th>2</th>\n",
       "      <td>female</td>\n",
       "      <td>group B</td>\n",
       "      <td>master's degree</td>\n",
       "      <td>standard</td>\n",
       "      <td>none</td>\n",
       "      <td>90</td>\n",
       "      <td>95</td>\n",
       "      <td>93</td>\n",
       "    </tr>\n",
       "    <tr>\n",
       "      <th>3</th>\n",
       "      <td>male</td>\n",
       "      <td>group A</td>\n",
       "      <td>associate's degree</td>\n",
       "      <td>free/reduced</td>\n",
       "      <td>none</td>\n",
       "      <td>47</td>\n",
       "      <td>57</td>\n",
       "      <td>44</td>\n",
       "    </tr>\n",
       "    <tr>\n",
       "      <th>4</th>\n",
       "      <td>male</td>\n",
       "      <td>group C</td>\n",
       "      <td>some college</td>\n",
       "      <td>standard</td>\n",
       "      <td>none</td>\n",
       "      <td>76</td>\n",
       "      <td>78</td>\n",
       "      <td>75</td>\n",
       "    </tr>\n",
       "  </tbody>\n",
       "</table>\n",
       "</div>"
      ],
      "text/plain": [
       "   gender race_ethnicity parental_level_of_education         lunch  \\\n",
       "0  female        group B           bachelor's degree      standard   \n",
       "1  female        group C                some college      standard   \n",
       "2  female        group B             master's degree      standard   \n",
       "3    male        group A          associate's degree  free/reduced   \n",
       "4    male        group C                some college      standard   \n",
       "\n",
       "  test_preparation_course  math_score  reading_score  writing_score  \n",
       "0                    none          72             72             74  \n",
       "1               completed          69             90             88  \n",
       "2                    none          90             95             93  \n",
       "3                    none          47             57             44  \n",
       "4                    none          76             78             75  "
      ]
     },
     "execution_count": 3,
     "metadata": {},
     "output_type": "execute_result"
    }
   ],
   "source": [
    "data = pd.read_csv('data/stud.csv')\n",
    "data.head()"
   ]
  },
  {
   "cell_type": "code",
   "execution_count": 4,
   "id": "05984e9b",
   "metadata": {},
   "outputs": [
    {
     "data": {
      "text/html": [
       "<div>\n",
       "<style scoped>\n",
       "    .dataframe tbody tr th:only-of-type {\n",
       "        vertical-align: middle;\n",
       "    }\n",
       "\n",
       "    .dataframe tbody tr th {\n",
       "        vertical-align: top;\n",
       "    }\n",
       "\n",
       "    .dataframe thead th {\n",
       "        text-align: right;\n",
       "    }\n",
       "</style>\n",
       "<table border=\"1\" class=\"dataframe\">\n",
       "  <thead>\n",
       "    <tr style=\"text-align: right;\">\n",
       "      <th></th>\n",
       "      <th>gender</th>\n",
       "      <th>race_ethnicity</th>\n",
       "      <th>parental_level_of_education</th>\n",
       "      <th>lunch</th>\n",
       "      <th>test_preparation_course</th>\n",
       "      <th>math_score</th>\n",
       "      <th>reading_score</th>\n",
       "      <th>writing_score</th>\n",
       "    </tr>\n",
       "  </thead>\n",
       "  <tbody>\n",
       "    <tr>\n",
       "      <th>0</th>\n",
       "      <td>0</td>\n",
       "      <td>group B</td>\n",
       "      <td>4</td>\n",
       "      <td>1</td>\n",
       "      <td>0</td>\n",
       "      <td>72</td>\n",
       "      <td>72</td>\n",
       "      <td>74</td>\n",
       "    </tr>\n",
       "    <tr>\n",
       "      <th>1</th>\n",
       "      <td>0</td>\n",
       "      <td>group C</td>\n",
       "      <td>2</td>\n",
       "      <td>1</td>\n",
       "      <td>1</td>\n",
       "      <td>69</td>\n",
       "      <td>90</td>\n",
       "      <td>88</td>\n",
       "    </tr>\n",
       "    <tr>\n",
       "      <th>2</th>\n",
       "      <td>0</td>\n",
       "      <td>group B</td>\n",
       "      <td>5</td>\n",
       "      <td>1</td>\n",
       "      <td>0</td>\n",
       "      <td>90</td>\n",
       "      <td>95</td>\n",
       "      <td>93</td>\n",
       "    </tr>\n",
       "    <tr>\n",
       "      <th>3</th>\n",
       "      <td>1</td>\n",
       "      <td>group A</td>\n",
       "      <td>3</td>\n",
       "      <td>0</td>\n",
       "      <td>0</td>\n",
       "      <td>47</td>\n",
       "      <td>57</td>\n",
       "      <td>44</td>\n",
       "    </tr>\n",
       "    <tr>\n",
       "      <th>4</th>\n",
       "      <td>1</td>\n",
       "      <td>group C</td>\n",
       "      <td>2</td>\n",
       "      <td>1</td>\n",
       "      <td>0</td>\n",
       "      <td>76</td>\n",
       "      <td>78</td>\n",
       "      <td>75</td>\n",
       "    </tr>\n",
       "  </tbody>\n",
       "</table>\n",
       "</div>"
      ],
      "text/plain": [
       "   gender race_ethnicity  parental_level_of_education  lunch  \\\n",
       "0       0        group B                            4      1   \n",
       "1       0        group C                            2      1   \n",
       "2       0        group B                            5      1   \n",
       "3       1        group A                            3      0   \n",
       "4       1        group C                            2      1   \n",
       "\n",
       "   test_preparation_course  math_score  reading_score  writing_score  \n",
       "0                        0          72             72             74  \n",
       "1                        1          69             90             88  \n",
       "2                        0          90             95             93  \n",
       "3                        0          47             57             44  \n",
       "4                        0          76             78             75  "
      ]
     },
     "execution_count": 4,
     "metadata": {},
     "output_type": "execute_result"
    }
   ],
   "source": [
    "data['gender'] = data['gender'].map({'female':0, 'male':1})\n",
    "data['parental_level_of_education'] = data['parental_level_of_education'].map({'some high school':0,'high school':1,\n",
    "                                                                               'some college':2,\"associate's degree\":3,\n",
    "                                                                               \"bachelor's degree\":4, \"master's degree\":5})\n",
    "data['test_preparation_course'] = data['test_preparation_course'].map({'none':0, 'completed':1})\n",
    "data['lunch'] = data['lunch'].map({'standard':1, 'free/reduced':0})\n",
    "data.head()"
   ]
  },
  {
   "cell_type": "code",
   "execution_count": 5,
   "id": "7262b2b6",
   "metadata": {},
   "outputs": [
    {
     "name": "stdout",
     "output_type": "stream",
     "text": [
      "<class 'pandas.core.frame.DataFrame'>\n",
      "RangeIndex: 1000 entries, 0 to 999\n",
      "Data columns (total 12 columns):\n",
      " #   Column                       Non-Null Count  Dtype\n",
      "---  ------                       --------------  -----\n",
      " 0   gender                       1000 non-null   int64\n",
      " 1   parental_level_of_education  1000 non-null   int64\n",
      " 2   lunch                        1000 non-null   int64\n",
      " 3   test_preparation_course      1000 non-null   int64\n",
      " 4   math_score                   1000 non-null   int64\n",
      " 5   reading_score                1000 non-null   int64\n",
      " 6   writing_score                1000 non-null   int64\n",
      " 7   race_ethnicity_group A       1000 non-null   uint8\n",
      " 8   race_ethnicity_group B       1000 non-null   uint8\n",
      " 9   race_ethnicity_group C       1000 non-null   uint8\n",
      " 10  race_ethnicity_group D       1000 non-null   uint8\n",
      " 11  race_ethnicity_group E       1000 non-null   uint8\n",
      "dtypes: int64(7), uint8(5)\n",
      "memory usage: 59.7 KB\n"
     ]
    }
   ],
   "source": [
    "data = pd.get_dummies(data)\n",
    "data.info()"
   ]
  },
  {
   "cell_type": "markdown",
   "id": "414a199a",
   "metadata": {},
   "source": [
    "## Modelling Preparation"
   ]
  },
  {
   "cell_type": "markdown",
   "id": "645f8c11",
   "metadata": {},
   "source": [
    "### Splitting data to features and target"
   ]
  },
  {
   "cell_type": "code",
   "execution_count": 6,
   "id": "9dbb1b0f",
   "metadata": {},
   "outputs": [
    {
     "name": "stdout",
     "output_type": "stream",
     "text": [
      "Features shape: (1000, 11)\n",
      "Target shape:(1000,)\n"
     ]
    }
   ],
   "source": [
    "X=data.drop(['math_score'],axis=1)\n",
    "y=data['math_score']\n",
    "print(f'Features shape: {X.shape}')\n",
    "print(f'Target shape:{y.shape}')"
   ]
  },
  {
   "cell_type": "markdown",
   "id": "f305e464",
   "metadata": {},
   "source": [
    "### Splitting data to test and train set"
   ]
  },
  {
   "cell_type": "code",
   "execution_count": 7,
   "id": "cca6448d",
   "metadata": {},
   "outputs": [
    {
     "name": "stdout",
     "output_type": "stream",
     "text": [
      "X_train shape is : (800, 11)\n",
      "X_test shape is : (200, 11)\n",
      "y_train shape is : (800,)\n",
      "y_test shape is : (200,)\n"
     ]
    }
   ],
   "source": [
    "from sklearn.model_selection import train_test_split\n",
    "X_train, X_test, y_train, y_test = train_test_split(X, y, random_state=42, test_size=0.2)\n",
    "print(f'X_train shape is : {X_train.shape}')\n",
    "print(f'X_test shape is : {X_test.shape}')\n",
    "print(f'y_train shape is : {y_train.shape}')\n",
    "print(f'y_test shape is : {y_test.shape}')"
   ]
  },
  {
   "cell_type": "markdown",
   "id": "0b0b5ed8",
   "metadata": {},
   "source": [
    "### Model Requirements"
   ]
  },
  {
   "cell_type": "code",
   "execution_count": 8,
   "id": "7811479c",
   "metadata": {},
   "outputs": [],
   "source": [
    "from sklearn.metrics import mean_squared_error, r2_score, mean_absolute_error"
   ]
  },
  {
   "cell_type": "code",
   "execution_count": 9,
   "id": "2f7d6a48",
   "metadata": {},
   "outputs": [],
   "source": [
    "def evaluate(model):\n",
    "    y_train_pred = model.predict(X_train)\n",
    "    train_rmse = mean_squared_error(y_train, y_train_pred, squared = False)\n",
    "    train_mae = mean_absolute_error(y_train, y_train_pred)\n",
    "    train_r_sq = r2_score(y_train, y_train_pred)\n",
    "    print('Model performance for Training set')\n",
    "    print(f\"- Root Mean Squared Error is {train_rmse}\")\n",
    "    print(f\"- Mean Absolute Error is {train_mae}\")\n",
    "    print(f\"- R squared error is {train_r_sq}\")\n",
    "    print('----------------------------------')\n",
    "    \n",
    "    y_test_pred = model.predict(X_test)\n",
    "    test_rmse = mean_squared_error(y_test, y_test_pred, squared = False)\n",
    "    test_mae = mean_absolute_error(y_test, y_test_pred)\n",
    "    test_r_sq = r2_score(y_test, y_test_pred)\n",
    "    print('Model performance for Test set')\n",
    "    print(f\"- Root Mean Squared Error is {test_rmse}\")\n",
    "    print(f\"- Mean Absolute Error is {test_mae}\")\n",
    "    print(f\"- R squared error is {test_r_sq}\")\n",
    "    \n",
    "    print('='*35)\n",
    "    print('\\n')\n",
    "    return(test_r_sq)"
   ]
  },
  {
   "cell_type": "code",
   "execution_count": 10,
   "id": "2863dc88",
   "metadata": {},
   "outputs": [],
   "source": [
    "from sklearn.linear_model import LinearRegression, Ridge, Lasso\n",
    "from sklearn.neighbors import KNeighborsRegressor\n",
    "from sklearn.tree import DecisionTreeRegressor\n",
    "from sklearn.svm import SVR\n",
    "from sklearn.ensemble import RandomForestRegressor, AdaBoostRegressor\n",
    "#from xgboost import XGBRegressor\n",
    "#from catboost import CatBoostRegressor"
   ]
  },
  {
   "cell_type": "code",
   "execution_count": 11,
   "id": "bac0529d",
   "metadata": {},
   "outputs": [],
   "source": [
    "# \"XGBRegressor\": XGBRegressor(),\n",
    "# \"CatBoosting Regressor\": CatBoostRegressor(verbose=False)\n",
    "models = {\"Linear Regression\": LinearRegression(),\n",
    "          \"Lasso\": Lasso(),\n",
    "          \"Ridge\": Ridge(),\n",
    "          \"K-Neighbours Regressor\" : KNeighborsRegressor(),\n",
    "          \"Decision Tree\": DecisionTreeRegressor(),\n",
    "          \"Support Vector Machine\": SVR(),\n",
    "          \"Random Forest Regressor\": RandomForestRegressor(),\n",
    "          \"AdaBoost Regressor\":AdaBoostRegressor()\n",
    "          }"
   ]
  },
  {
   "cell_type": "code",
   "execution_count": 12,
   "id": "544dd863",
   "metadata": {},
   "outputs": [
    {
     "name": "stdout",
     "output_type": "stream",
     "text": [
      "Linear Regression\n",
      "\n",
      "Model performance for Training set\n",
      "- Root Mean Squared Error is 5.337022942627443\n",
      "- Mean Absolute Error is 4.280355358943515\n",
      "- R squared error is 0.8736565467932157\n",
      "----------------------------------\n",
      "Model performance for Test set\n",
      "- Root Mean Squared Error is 5.36852461704637\n",
      "- Mean Absolute Error is 4.181966418321511\n",
      "- R squared error is 0.8815597679452447\n",
      "===================================\n",
      "\n",
      "\n",
      "Lasso\n",
      "\n",
      "Model performance for Training set\n",
      "- Root Mean Squared Error is 6.475697447233418\n",
      "- Mean Absolute Error is 5.112987635007527\n",
      "- R squared error is 0.8139936790435942\n",
      "----------------------------------\n",
      "Model performance for Test set\n",
      "- Root Mean Squared Error is 6.363193353294296\n",
      "- Mean Absolute Error is 5.016963801443908\n",
      "- R squared error is 0.8336052606107022\n",
      "===================================\n",
      "\n",
      "\n",
      "Ridge\n",
      "\n",
      "Model performance for Training set\n",
      "- Root Mean Squared Error is 5.337184714164109\n",
      "- Mean Absolute Error is 4.279877919930658\n",
      "- R squared error is 0.8736488874353473\n",
      "----------------------------------\n",
      "Model performance for Test set\n",
      "- Root Mean Squared Error is 5.369026261877403\n",
      "- Mean Absolute Error is 4.182839462272804\n",
      "- R squared error is 0.8815376323641101\n",
      "===================================\n",
      "\n",
      "\n",
      "K-Neighbours Regressor\n",
      "\n",
      "Model performance for Training set\n",
      "- Root Mean Squared Error is 7.135600885699816\n",
      "- Mean Absolute Error is 5.687\n",
      "- R squared error is 0.7741522830105301\n",
      "----------------------------------\n",
      "Model performance for Test set\n",
      "- Root Mean Squared Error is 8.955713260260179\n",
      "- Mean Absolute Error is 7.26\n",
      "- R squared error is 0.6703980958204706\n",
      "===================================\n",
      "\n",
      "\n",
      "Decision Tree\n",
      "\n",
      "Model performance for Training set\n",
      "- Root Mean Squared Error is 0.2795084971874737\n",
      "- Mean Absolute Error is 0.01875\n",
      "- R squared error is 0.9996534669718089\n",
      "----------------------------------\n",
      "Model performance for Test set\n",
      "- Root Mean Squared Error is 7.896201618499872\n",
      "- Mean Absolute Error is 6.24\n",
      "- R squared error is 0.7437724584364819\n",
      "===================================\n",
      "\n",
      "\n",
      "Support Vector Machine\n",
      "\n",
      "Model performance for Training set\n",
      "- Root Mean Squared Error is 9.041112005798785\n",
      "- Mean Absolute Error is 7.237188398069197\n",
      "- R squared error is 0.6374246270190838\n",
      "----------------------------------\n",
      "Model performance for Test set\n",
      "- Root Mean Squared Error is 9.595759268485034\n",
      "- Mean Absolute Error is 7.716535312065407\n",
      "- R squared error is 0.6216026901684386\n",
      "===================================\n",
      "\n",
      "\n",
      "Random Forest Regressor\n",
      "\n",
      "Model performance for Training set\n",
      "- Root Mean Squared Error is 2.2998868684435085\n",
      "- Mean Absolute Error is 1.81489375\n",
      "- R squared error is 0.9765378638593234\n",
      "----------------------------------\n",
      "Model performance for Test set\n",
      "- Root Mean Squared Error is 6.0949208385160984\n",
      "- Mean Absolute Error is 4.685783333333333\n",
      "- R squared error is 0.8473399182875462\n",
      "===================================\n",
      "\n",
      "\n",
      "AdaBoost Regressor\n",
      "\n",
      "Model performance for Training set\n",
      "- Root Mean Squared Error is 5.80577068081638\n",
      "- Mean Absolute Error is 4.7265205964112775\n",
      "- R squared error is 0.8504885824827004\n",
      "----------------------------------\n",
      "Model performance for Test set\n",
      "- Root Mean Squared Error is 6.011352709964431\n",
      "- Mean Absolute Error is 4.6406168867568045\n",
      "- R squared error is 0.851497497297604\n",
      "===================================\n",
      "\n",
      "\n"
     ]
    }
   ],
   "source": [
    "model_list =[]\n",
    "r2_list = []\n",
    "for i in range(len(list(models))):\n",
    "    model = list(models.values())[i]\n",
    "    model.fit(X_train, y_train)\n",
    "    model_name = list(models.keys())[i]\n",
    "    model_list.append(model_name)\n",
    "    print(f\"{model_name}\\n\")\n",
    "    test_r_sq = evaluate(model)\n",
    "    r2_list.append(test_r_sq)\n"
   ]
  },
  {
   "cell_type": "code",
   "execution_count": 13,
   "id": "30fe9d58",
   "metadata": {},
   "outputs": [
    {
     "data": {
      "text/html": [
       "<div>\n",
       "<style scoped>\n",
       "    .dataframe tbody tr th:only-of-type {\n",
       "        vertical-align: middle;\n",
       "    }\n",
       "\n",
       "    .dataframe tbody tr th {\n",
       "        vertical-align: top;\n",
       "    }\n",
       "\n",
       "    .dataframe thead th {\n",
       "        text-align: right;\n",
       "    }\n",
       "</style>\n",
       "<table border=\"1\" class=\"dataframe\">\n",
       "  <thead>\n",
       "    <tr style=\"text-align: right;\">\n",
       "      <th></th>\n",
       "      <th>Model Name</th>\n",
       "      <th>R2_Score</th>\n",
       "    </tr>\n",
       "  </thead>\n",
       "  <tbody>\n",
       "    <tr>\n",
       "      <th>0</th>\n",
       "      <td>Linear Regression</td>\n",
       "      <td>0.881560</td>\n",
       "    </tr>\n",
       "    <tr>\n",
       "      <th>2</th>\n",
       "      <td>Ridge</td>\n",
       "      <td>0.881538</td>\n",
       "    </tr>\n",
       "    <tr>\n",
       "      <th>7</th>\n",
       "      <td>AdaBoost Regressor</td>\n",
       "      <td>0.851497</td>\n",
       "    </tr>\n",
       "    <tr>\n",
       "      <th>6</th>\n",
       "      <td>Random Forest Regressor</td>\n",
       "      <td>0.847340</td>\n",
       "    </tr>\n",
       "    <tr>\n",
       "      <th>1</th>\n",
       "      <td>Lasso</td>\n",
       "      <td>0.833605</td>\n",
       "    </tr>\n",
       "    <tr>\n",
       "      <th>4</th>\n",
       "      <td>Decision Tree</td>\n",
       "      <td>0.743772</td>\n",
       "    </tr>\n",
       "    <tr>\n",
       "      <th>3</th>\n",
       "      <td>K-Neighbours Regressor</td>\n",
       "      <td>0.670398</td>\n",
       "    </tr>\n",
       "    <tr>\n",
       "      <th>5</th>\n",
       "      <td>Support Vector Machine</td>\n",
       "      <td>0.621603</td>\n",
       "    </tr>\n",
       "  </tbody>\n",
       "</table>\n",
       "</div>"
      ],
      "text/plain": [
       "                Model Name  R2_Score\n",
       "0        Linear Regression  0.881560\n",
       "2                    Ridge  0.881538\n",
       "7       AdaBoost Regressor  0.851497\n",
       "6  Random Forest Regressor  0.847340\n",
       "1                    Lasso  0.833605\n",
       "4            Decision Tree  0.743772\n",
       "3   K-Neighbours Regressor  0.670398\n",
       "5   Support Vector Machine  0.621603"
      ]
     },
     "execution_count": 13,
     "metadata": {},
     "output_type": "execute_result"
    }
   ],
   "source": [
    "pd.DataFrame(list(zip(model_list, r2_list)), columns=['Model Name', 'R2_Score']).sort_values(by=[\"R2_Score\"],ascending=False)\n"
   ]
  },
  {
   "cell_type": "markdown",
   "id": "333af81c",
   "metadata": {},
   "source": [
    "### Model Selection"
   ]
  },
  {
   "cell_type": "code",
   "execution_count": 14,
   "id": "56d85a5d",
   "metadata": {},
   "outputs": [
    {
     "name": "stdout",
     "output_type": "stream",
     "text": [
      "Accuracy of the model is 88.15597679452448\n"
     ]
    }
   ],
   "source": [
    "linear_model = LinearRegression(fit_intercept = True)\n",
    "linear_model.fit(X_train, y_train)\n",
    "y_pred = linear_model.predict(X_test)\n",
    "score = r2_score(y_test, y_pred)*100\n",
    "print(f\"Accuracy of the model is {score}\")"
   ]
  },
  {
   "cell_type": "code",
   "execution_count": 15,
   "id": "ebc9a53e",
   "metadata": {},
   "outputs": [],
   "source": [
    "### Plot beween actual and predicted values"
   ]
  },
  {
   "cell_type": "code",
   "execution_count": 16,
   "id": "9be9f578",
   "metadata": {},
   "outputs": [
    {
     "data": {
      "text/plain": [
       "Text(0, 0.5, 'Predicted')"
      ]
     },
     "execution_count": 16,
     "metadata": {},
     "output_type": "execute_result"
    },
    {
     "data": {
      "image/png": "[encoded data removed]",
      "text/plain": [
       "<Figure size 432x288 with 1 Axes>"
      ]
     },
     "metadata": {
      "needs_background": "light"
     },
     "output_type": "display_data"
    }
   ],
   "source": [
    "plt.scatter(y_test,y_pred)\n",
    "plt.xlabel(\"Actual\")\n",
    "plt.ylabel(\"Predicted\")"
   ]
  },
  {
   "cell_type": "code",
   "execution_count": 17,
   "id": "874c7a21",
   "metadata": {},
   "outputs": [],
   "source": [
    "### Regression plot\n"
   ]
  },
  {
   "cell_type": "code",
   "execution_count": 18,
   "id": "c279f7cd",
   "metadata": {},
   "outputs": [
    {
     "data": {
      "text/plain": [
       "<AxesSubplot:xlabel='math_score'>"
      ]
     },
     "execution_count": 18,
     "metadata": {},
     "output_type": "execute_result"
    },
    {
     "data": {
      "image/png": "[encoded data removed]",
      "text/plain": [
       "<Figure size 432x288 with 1 Axes>"
      ]
     },
     "metadata": {
      "needs_background": "light"
     },
     "output_type": "display_data"
    }
   ],
   "source": [
    "sns.regplot(x=y_test,y=y_pred,ci=None)"
   ]
  },
  {
   "cell_type": "code",
   "execution_count": 19,
   "id": "8e160494",
   "metadata": {},
   "outputs": [],
   "source": [
    "### Difference between actual and predicted values"
   ]
  },
  {
   "cell_type": "code",
   "execution_count": 20,
   "id": "5e445c5b",
   "metadata": {},
   "outputs": [
    {
     "data": {
      "text/html": [
       "<div>\n",
       "<style scoped>\n",
       "    .dataframe tbody tr th:only-of-type {\n",
       "        vertical-align: middle;\n",
       "    }\n",
       "\n",
       "    .dataframe tbody tr th {\n",
       "        vertical-align: top;\n",
       "    }\n",
       "\n",
       "    .dataframe thead th {\n",
       "        text-align: right;\n",
       "    }\n",
       "</style>\n",
       "<table border=\"1\" class=\"dataframe\">\n",
       "  <thead>\n",
       "    <tr style=\"text-align: right;\">\n",
       "      <th></th>\n",
       "      <th>Actual Value</th>\n",
       "      <th>Predicted Value</th>\n",
       "      <th>Difference</th>\n",
       "    </tr>\n",
       "  </thead>\n",
       "  <tbody>\n",
       "    <tr>\n",
       "      <th>521</th>\n",
       "      <td>91</td>\n",
       "      <td>76.385804</td>\n",
       "      <td>14.614196</td>\n",
       "    </tr>\n",
       "    <tr>\n",
       "      <th>737</th>\n",
       "      <td>53</td>\n",
       "      <td>58.255761</td>\n",
       "      <td>-5.255761</td>\n",
       "    </tr>\n",
       "    <tr>\n",
       "      <th>740</th>\n",
       "      <td>80</td>\n",
       "      <td>77.288737</td>\n",
       "      <td>2.711263</td>\n",
       "    </tr>\n",
       "    <tr>\n",
       "      <th>660</th>\n",
       "      <td>74</td>\n",
       "      <td>76.288104</td>\n",
       "      <td>-2.288104</td>\n",
       "    </tr>\n",
       "    <tr>\n",
       "      <th>411</th>\n",
       "      <td>84</td>\n",
       "      <td>87.053863</td>\n",
       "      <td>-3.053863</td>\n",
       "    </tr>\n",
       "    <tr>\n",
       "      <th>...</th>\n",
       "      <td>...</td>\n",
       "      <td>...</td>\n",
       "      <td>...</td>\n",
       "    </tr>\n",
       "    <tr>\n",
       "      <th>408</th>\n",
       "      <td>52</td>\n",
       "      <td>43.278105</td>\n",
       "      <td>8.721895</td>\n",
       "    </tr>\n",
       "    <tr>\n",
       "      <th>332</th>\n",
       "      <td>62</td>\n",
       "      <td>62.175947</td>\n",
       "      <td>-0.175947</td>\n",
       "    </tr>\n",
       "    <tr>\n",
       "      <th>208</th>\n",
       "      <td>74</td>\n",
       "      <td>67.246283</td>\n",
       "      <td>6.753717</td>\n",
       "    </tr>\n",
       "    <tr>\n",
       "      <th>613</th>\n",
       "      <td>65</td>\n",
       "      <td>67.025548</td>\n",
       "      <td>-2.025548</td>\n",
       "    </tr>\n",
       "    <tr>\n",
       "      <th>78</th>\n",
       "      <td>61</td>\n",
       "      <td>62.823411</td>\n",
       "      <td>-1.823411</td>\n",
       "    </tr>\n",
       "  </tbody>\n",
       "</table>\n",
       "<p>200 rows × 3 columns</p>\n",
       "</div>"
      ],
      "text/plain": [
       "     Actual Value  Predicted Value  Difference\n",
       "521            91        76.385804   14.614196\n",
       "737            53        58.255761   -5.255761\n",
       "740            80        77.288737    2.711263\n",
       "660            74        76.288104   -2.288104\n",
       "411            84        87.053863   -3.053863\n",
       "..            ...              ...         ...\n",
       "408            52        43.278105    8.721895\n",
       "332            62        62.175947   -0.175947\n",
       "208            74        67.246283    6.753717\n",
       "613            65        67.025548   -2.025548\n",
       "78             61        62.823411   -1.823411\n",
       "\n",
       "[200 rows x 3 columns]"
      ]
     },
     "execution_count": 20,
     "metadata": {},
     "output_type": "execute_result"
    }
   ],
   "source": [
    "pred_df=pd.DataFrame({'Actual Value':y_test,'Predicted Value':y_pred,'Difference':y_test-y_pred})\n",
    "pred_df"
   ]
  },
  {
   "cell_type": "code",
   "execution_count": null,
   "id": "3c90066c",
   "metadata": {},
   "outputs": [],
   "source": []
  }
 ],
 "metadata": {
  "kernelspec": {
   "display_name": "Python 3 (ipykernel)",
   "language": "python",
   "name": "python3"
  },
  "language_info": {
   "codemirror_mode": {
    "name": "ipython",
    "version": 3
   },
   "file_extension": ".py",
   "mimetype": "text/x-python",
   "name": "python",
   "nbconvert_exporter": "python",
   "pygments_lexer": "ipython3",
   "version": "3.9.12"
  }
 },
 "nbformat": 4,
 "nbformat_minor": 5
}
